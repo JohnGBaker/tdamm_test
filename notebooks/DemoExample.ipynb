{
 "cells": [
  {
   "cell_type": "markdown",
   "id": "b38e16a0",
   "metadata": {},
   "source": [
    "You can click below to open in Google Colab\n",
    "[![Open In Colab](https://colab.research.google.com/assets/colab-badge.svg)](https://colab.research.google.com/github/JohnGBaker/tdamm_test/blob/main/notebooks/DemoExample.ipynb)"
   ]
  },
  {
   "cell_type": "code",
   "execution_count": 1,
   "id": "7dddeb62",
   "metadata": {},
   "outputs": [
    {
     "name": "stdout",
     "output_type": "stream",
     "text": [
      "Cloning into 'tdamm_test'...\n",
      "remote: Enumerating objects: 20, done.\u001b[K\n",
      "remote: Counting objects: 100% (20/20), done.\u001b[K\n",
      "remote: Compressing objects: 100% (14/14), done.\u001b[K\n",
      "remote: Total 20 (delta 1), reused 19 (delta 0), pack-reused 0\u001b[K\n",
      "Unpacking objects: 100% (20/20), done.\n",
      "Already up to date.\n",
      "Processing ./tdamm_test\n",
      "  Preparing metadata (setup.py) ... \u001b[?25ldone\n",
      "\u001b[?25hBuilding wheels for collected packages: tdamm\n",
      "  Building wheel for tdamm (setup.py) ... \u001b[?25ldone\n",
      "\u001b[?25h  Created wheel for tdamm: filename=tdamm-0.0.0-py3-none-any.whl size=955 sha256=2e25c7585536a75199878144cff62970808b3053a4385b766e56bbe684cb2c88\n",
      "  Stored in directory: /private/var/folders/x6/0_5snvmj5rj3s1z43y5f3vncf2_rs9/T/pip-ephem-wheel-cache-hbpem0t8/wheels/06/0c/ce/fbcdf14f4e97d50aa4b5150699ab00b080d63fdee4254fedaa\n",
      "Successfully built tdamm\n",
      "Installing collected packages: tdamm\n",
      "  Attempting uninstall: tdamm\n",
      "    Found existing installation: tdamm 0.0.0\n",
      "    Uninstalling tdamm-0.0.0:\n",
      "      Successfully uninstalled tdamm-0.0.0\n",
      "Successfully installed tdamm-0.0.0\n",
      "Requirement already satisfied: afterglowpy in /Users/jgbaker/miniconda3/lib/python3.8/site-packages (0.7.3)\n",
      "Requirement already satisfied: scipy>=0.14 in /Users/jgbaker/miniconda3/lib/python3.8/site-packages (from afterglowpy) (1.7.1)\n",
      "Requirement already satisfied: numpy>=1.10 in /Users/jgbaker/miniconda3/lib/python3.8/site-packages (from afterglowpy) (1.21.2)\n"
     ]
    }
   ],
   "source": [
    "!git clone https://github.com/geoffryan/tdamm_test.git\n",
    "!cd tdamm_test;git pull\n",
    "!pip install ./tdamm_test\n",
    "!pip install afterglowpy"
   ]
  },
  {
   "cell_type": "code",
   "execution_count": 2,
   "id": "b88f8795",
   "metadata": {},
   "outputs": [
    {
     "ename": "ModuleNotFoundError",
     "evalue": "No module named 'tdamm'",
     "output_type": "error",
     "traceback": [
      "\u001b[0;31m---------------------------------------------------------------------------\u001b[0m",
      "\u001b[0;31mModuleNotFoundError\u001b[0m                       Traceback (most recent call last)",
      "\u001b[0;32m/var/folders/x6/0_5snvmj5rj3s1z43y5f3vncf2_rs9/T/ipykernel_28916/549768427.py\u001b[0m in \u001b[0;36m<module>\u001b[0;34m\u001b[0m\n\u001b[1;32m      2\u001b[0m \u001b[0;32mimport\u001b[0m \u001b[0mmatplotlib\u001b[0m\u001b[0;34m.\u001b[0m\u001b[0mpyplot\u001b[0m \u001b[0;32mas\u001b[0m \u001b[0mplt\u001b[0m\u001b[0;34m\u001b[0m\u001b[0;34m\u001b[0m\u001b[0m\n\u001b[1;32m      3\u001b[0m \u001b[0;32mfrom\u001b[0m \u001b[0mastropy\u001b[0m \u001b[0;32mimport\u001b[0m \u001b[0munits\u001b[0m\u001b[0;34m\u001b[0m\u001b[0;34m\u001b[0m\u001b[0m\n\u001b[0;32m----> 4\u001b[0;31m \u001b[0;32mimport\u001b[0m \u001b[0mtdamm\u001b[0m\u001b[0;34m\u001b[0m\u001b[0;34m\u001b[0m\u001b[0m\n\u001b[0m\u001b[1;32m      5\u001b[0m \u001b[0;34m\u001b[0m\u001b[0m\n\u001b[1;32m      6\u001b[0m \u001b[0mmodel\u001b[0m \u001b[0;34m=\u001b[0m \u001b[0mtdamm\u001b[0m\u001b[0;34m.\u001b[0m\u001b[0mAfterglowModel\u001b[0m\u001b[0;34m(\u001b[0m\u001b[0;34m)\u001b[0m\u001b[0;34m\u001b[0m\u001b[0;34m\u001b[0m\u001b[0m\n",
      "\u001b[0;31mModuleNotFoundError\u001b[0m: No module named 'tdamm'"
     ]
    }
   ],
   "source": [
    "import numpy as np\n",
    "import matplotlib.pyplot as plt\n",
    "from astropy import units\n",
    "import tdamm\n",
    "\n",
    "model = tdamm.AfterglowModel()\n",
    "\n",
    "t = np.geomspace(1.0e-2, 1.0e2, 100) * units.day\n",
    "nu = 1.0e14 * units.Hz\n",
    "\n",
    "F = model(t, nu, jetType=0, specType=0, E0=1.0e53, n0=1.0, thetaCore=0.1, thetaWing=0.4, thetaObs=0.5, p=2.2, epsilon_e=0.1, epsilon_B=0.0001, xi_N=1.0e-2, d_L=1.0e27, z=0.5)\n",
    "\n",
    "fig, ax = plt.subplots(1, 1)\n",
    "\n",
    "ax.plot(t, F)\n",
    "\n",
    "ax.set(xscale='log', yscale='log')\n",
    "\n",
    "plt.show()"
   ]
  }
 ],
 "metadata": {
  "kernelspec": {
   "display_name": "Python 3 (ipykernel)",
   "language": "python",
   "name": "python3"
  },
  "language_info": {
   "codemirror_mode": {
    "name": "ipython",
    "version": 3
   },
   "file_extension": ".py",
   "mimetype": "text/x-python",
   "name": "python",
   "nbconvert_exporter": "python",
   "pygments_lexer": "ipython3",
   "version": "3.8.12"
  }
 },
 "nbformat": 4,
 "nbformat_minor": 5
}
